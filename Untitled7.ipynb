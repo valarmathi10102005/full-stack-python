{
  "nbformat": 4,
  "nbformat_minor": 0,
  "metadata": {
    "colab": {
      "provenance": []
    },
    "kernelspec": {
      "name": "python3",
      "display_name": "Python 3"
    },
    "language_info": {
      "name": "python"
    }
  },
  "cells": [
    {
      "cell_type": "code",
      "execution_count": 2,
      "metadata": {
        "colab": {
          "base_uri": "https://localhost:8080/"
        },
        "id": "5rN37Psdg7Wr",
        "outputId": "528e137d-c923-45a9-c5a1-6b0ba46d1dc0"
      },
      "outputs": [
        {
          "output_type": "stream",
          "name": "stdout",
          "text": [
            "2\n",
            "3\n",
            "4\n",
            "no number\n",
            "no number\n",
            "no number\n"
          ]
        }
      ],
      "source": [
        "for x in range(2,8):\n",
        "  if x<=4:\n",
        "    print(x)\n",
        "  else:\n",
        "    print(\"no number\")\n"
      ]
    },
    {
      "cell_type": "code",
      "source": [
        "x=9\n",
        "while x<=20:\n",
        "  print(x)\n",
        "  x+=2\n",
        "  if x==15:\n",
        "   print(\"yes\")\n",
        "   break\n",
        "print(\"no\")"
      ],
      "metadata": {
        "colab": {
          "base_uri": "https://localhost:8080/"
        },
        "id": "KazvU0OAvcso",
        "outputId": "3215a19b-d37e-4c02-f337-f6fdfb17e9b7"
      },
      "execution_count": 7,
      "outputs": [
        {
          "output_type": "stream",
          "name": "stdout",
          "text": [
            "9\n",
            "11\n",
            "13\n",
            "yes\n",
            "no\n"
          ]
        }
      ]
    },
    {
      "cell_type": "code",
      "source": [
        "\n",
        "x=9\n",
        "while x<=15:\n",
        "  print(x)\n",
        "  x+=2\n",
        "else:\n",
        "  print(\"no\")"
      ],
      "metadata": {
        "colab": {
          "base_uri": "https://localhost:8080/"
        },
        "id": "CRKEGTzXyLJX",
        "outputId": "75881d7a-5f76-4905-ec4f-5f0b1d4e937b"
      },
      "execution_count": 8,
      "outputs": [
        {
          "output_type": "stream",
          "name": "stdout",
          "text": [
            "9\n",
            "11\n",
            "13\n",
            "15\n",
            "no\n"
          ]
        }
      ]
    },
    {
      "cell_type": "code",
      "source": [
        "for x in range(5,20):\n",
        " if x<=10:\n",
        "  print(\"correct\")\n",
        " elif x==8:\n",
        "  print(\"equal number\")\n",
        " else:\n",
        "  print(\"invalid number\")"
      ],
      "metadata": {
        "colab": {
          "base_uri": "https://localhost:8080/"
        },
        "id": "sZC6M4Hz2eJo",
        "outputId": "cf067d0b-cdce-494d-d713-4f774d0eb301"
      },
      "execution_count": 10,
      "outputs": [
        {
          "output_type": "stream",
          "name": "stdout",
          "text": [
            "correct\n",
            "correct\n",
            "correct\n",
            "correct\n",
            "correct\n",
            "correct\n",
            "invalid number\n",
            "invalid number\n",
            "invalid number\n",
            "invalid number\n",
            "invalid number\n",
            "invalid number\n",
            "invalid number\n",
            "invalid number\n",
            "invalid number\n"
          ]
        }
      ]
    }
  ]
}